{
 "cells": [
  {
   "cell_type": "code",
   "execution_count": 2,
   "metadata": {},
   "outputs": [],
   "source": [
    "import uuid\n",
    "import random\n",
    "import numpy as np"
   ]
  },
  {
   "cell_type": "code",
   "execution_count": 3,
   "metadata": {},
   "outputs": [],
   "source": [
    "from tax_calculation import get_taxable_income, calculate_final_tax"
   ]
  },
  {
   "cell_type": "code",
   "execution_count": 4,
   "metadata": {},
   "outputs": [],
   "source": [
    "from sqlalchemy import create_engine, Column, String, Integer, DateTime\n",
    "from sqlalchemy.orm import sessionmaker\n",
    "from sqlalchemy.ext.declarative import declarative_base"
   ]
  },
  {
   "cell_type": "code",
   "execution_count": 5,
   "metadata": {},
   "outputs": [],
   "source": [
    "DB_URL = (\n",
    "    \"postgresql://test:must_be_eight_characters\"\n",
    "    + \"@example-1.cluster-cculi2axzscc.us-east-1.rds.amazonaws.com:5432/test\"\n",
    ")\n",
    "\n",
    "engine = create_engine(DB_URL)\n",
    "\n",
    "# Create a session to interact with the database\n",
    "Session = sessionmaker(bind=engine)\n",
    "session = Session()"
   ]
  },
  {
   "cell_type": "code",
   "execution_count": 6,
   "metadata": {},
   "outputs": [],
   "source": [
    "# Create a base class for declarative models\n",
    "Base = declarative_base()\n",
    "\n",
    "\n",
    "# Define the User model\n",
    "class User(Base):\n",
    "    __tablename__ = \"users\"\n",
    "\n",
    "    id = Column(String, primary_key=True)\n",
    "    name = Column(String)\n",
    "    password = Column(String)\n",
    "    gender = Column(String)\n",
    "    date_of_birth = Column(DateTime)\n",
    "\n",
    "\n",
    "# Define the TaxDetails model\n",
    "class TaxDetails(Base):\n",
    "    __tablename__ = \"tax_details\"\n",
    "\n",
    "    tax_id = Column(String, primary_key=True)\n",
    "    user_id = Column(String)\n",
    "    year = Column(Integer)\n",
    "    income = Column(Integer)\n",
    "    taxable_income = Column(Integer)\n",
    "    location = Column(String)\n",
    "    tax_amount = Column(Integer)"
   ]
  },
  {
   "cell_type": "code",
   "execution_count": 13,
   "metadata": {},
   "outputs": [],
   "source": [
    "for _ in range(1000):\n",
    "    user_year = random.randint(1960, 2000)\n",
    "    new_user = User(\n",
    "        id=str(uuid.uuid4()),\n",
    "        name=\"User Name\",\n",
    "        password=\"Password\",\n",
    "        gender=random.choice([\"male\", \"female\"]),\n",
    "        date_of_birth=str(user_year) + \"-01-01\",\n",
    "    )\n",
    "\n",
    "    session.add(new_user)\n",
    "\n",
    "    user_base_income = random.randint(100000, 1000000)\n",
    "    location = random.choice([\"dhaka\", \"chittagong\", \"city\", \"non_city\"])\n",
    "\n",
    "    for year in range(2015, 2022):\n",
    "        income_in_year = user_base_income + random.randint(10000, 100000)\n",
    "        new_tax_details = TaxDetails(\n",
    "            tax_id=str(uuid.uuid4()),\n",
    "            user_id=new_user.id,\n",
    "            year=year,\n",
    "            income=income_in_year,\n",
    "            taxable_income=get_taxable_income(\n",
    "                income_in_year, new_user.gender, year - user_year + 1\n",
    "            ),\n",
    "            location=location,\n",
    "            tax_amount=calculate_final_tax(\n",
    "                income_in_year, new_user.gender, year - user_year + 1, location\n",
    "            ),\n",
    "        )\n",
    "\n",
    "        session.add(new_tax_details)\n",
    "\n",
    "    session.commit()\n",
    "# takes 18 min to run"
   ]
  }
 ],
 "metadata": {
  "kernelspec": {
   "display_name": "venv",
   "language": "python",
   "name": "python3"
  },
  "language_info": {
   "codemirror_mode": {
    "name": "ipython",
    "version": 3
   },
   "file_extension": ".py",
   "mimetype": "text/x-python",
   "name": "python",
   "nbconvert_exporter": "python",
   "pygments_lexer": "ipython3",
   "version": "3.10.12"
  }
 },
 "nbformat": 4,
 "nbformat_minor": 2
}
