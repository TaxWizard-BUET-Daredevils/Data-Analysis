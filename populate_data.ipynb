{
 "cells": [
  {
   "cell_type": "code",
   "execution_count": 49,
   "metadata": {},
   "outputs": [],
   "source": [
    "import uuid\n",
    "import random\n",
    "import numpy as np"
   ]
  },
  {
   "cell_type": "code",
   "execution_count": 50,
   "metadata": {},
   "outputs": [],
   "source": [
    "from tax_calculation import get_taxable_income, calculate_final_tax"
   ]
  },
  {
   "cell_type": "code",
   "execution_count": 51,
   "metadata": {},
   "outputs": [],
   "source": [
    "from sqlalchemy import create_engine, Column, String, Integer, DateTime\n",
    "from sqlalchemy.orm import sessionmaker\n",
    "from sqlalchemy.ext.declarative import declarative_base"
   ]
  },
  {
   "cell_type": "code",
   "execution_count": 52,
   "metadata": {},
   "outputs": [],
   "source": [
    "DB_URL = (\n",
    "    \"postgresql://test:must_be_eight_characters\"\n",
    "    + \"@example-1.cluster-cculi2axzscc.us-east-1.rds.amazonaws.com:5432/test\"\n",
    ")\n",
    "\n",
    "engine = create_engine(DB_URL)\n",
    "\n",
    "# Create a session to interact with the database\n",
    "Session = sessionmaker(bind=engine)\n",
    "session = Session()"
   ]
  },
  {
   "cell_type": "code",
   "execution_count": 53,
   "metadata": {},
   "outputs": [],
   "source": [
    "# Create a base class for declarative models\n",
    "Base = declarative_base()\n",
    "\n",
    "\n",
    "# Define the User model\n",
    "class User(Base):\n",
    "    __tablename__ = \"users\"\n",
    "\n",
    "    id = Column(String, primary_key=True)\n",
    "    name = Column(String)\n",
    "    password = Column(String)\n",
    "    gender = Column(String)\n",
    "    date_of_birth = Column(DateTime)\n",
    "\n",
    "\n",
    "# Define the TaxDetails model\n",
    "class TaxDetails(Base):\n",
    "    __tablename__ = \"tax_details\"\n",
    "\n",
    "    tax_id = Column(String, primary_key=True)\n",
    "    user_id = Column(String)\n",
    "    year = Column(Integer)\n",
    "    income = Column(Integer)\n",
    "    taxable_income = Column(Integer)\n",
    "    location = Column(String)\n",
    "    tax_amount = Column(Integer)"
   ]
  },
  {
   "cell_type": "code",
   "execution_count": 54,
   "metadata": {},
   "outputs": [],
   "source": [
    "# incomes generated from log normal distribution\n",
    "incomes = np.random.lognormal(mean=10.5, sigma=.6, size=1000).tolist()\n",
    "incomes = [100*int(income) for income in incomes]"
   ]
  },
  {
   "cell_type": "code",
   "execution_count": 55,
   "metadata": {},
   "outputs": [],
   "source": [
    "for _ in range(1000):\n",
    "    user_year = random.randint(1960, 2000)\n",
    "    user_income = random.choice(incomes)\n",
    "    user_gender = random.choice([\"male\", \"female\"])\n",
    "\n",
    "    if user_gender == 'female':\n",
    "        user_base_income = user_income * 0.9\n",
    "\n",
    "    new_user = User(\n",
    "        id=str(uuid.uuid4()),\n",
    "        name=\"User Name\",\n",
    "        password=\"Password\",\n",
    "        gender=user_gender,\n",
    "        date_of_birth=str(user_year) + \"-01-01\",\n",
    "    )\n",
    "\n",
    "    session.add(new_user)\n",
    "\n",
    "    location = random.choice([\"dhaka\", \"dhaka\", \"dhaka\", \"dhaka\", \"chittagong\", \"chittagong\", \"chittagong\", \"city\", \"city\", \"non_city\"])\n",
    "\n",
    "    for year in range(2015, 2022):\n",
    "        new_tax_details = TaxDetails(\n",
    "            tax_id=str(uuid.uuid4()),\n",
    "            user_id=new_user.id,\n",
    "            year=year,\n",
    "            income=user_income,\n",
    "            taxable_income=get_taxable_income(\n",
    "                user_income, new_user.gender, year - user_year + 1\n",
    "            ),\n",
    "            location=location,\n",
    "            tax_amount=calculate_final_tax(\n",
    "                user_income, new_user.gender, year - user_year + 1, location\n",
    "            ),\n",
    "        )\n",
    "        session.add(new_tax_details)\n",
    "\n",
    "        user_income *= random.uniform(0.9, 1.2)\n",
    "\n",
    "    session.commit()\n",
    "\n",
    "# takes 18 min to run"
   ]
  },
  {
   "cell_type": "code",
   "execution_count": null,
   "metadata": {},
   "outputs": [],
   "source": []
  }
 ],
 "metadata": {
  "kernelspec": {
   "display_name": "venv",
   "language": "python",
   "name": "python3"
  },
  "language_info": {
   "codemirror_mode": {
    "name": "ipython",
    "version": 3
   },
   "file_extension": ".py",
   "mimetype": "text/x-python",
   "name": "python",
   "nbconvert_exporter": "python",
   "pygments_lexer": "ipython3",
   "version": "3.10.12"
  }
 },
 "nbformat": 4,
 "nbformat_minor": 2
}
